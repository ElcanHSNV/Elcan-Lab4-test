{
  "metadata": {
    "language_info": {
      "codemirror_mode": {
        "name": "python",
        "version": 3
      },
      "file_extension": ".py",
      "mimetype": "text/x-python",
      "name": "python",
      "nbconvert_exporter": "python",
      "pygments_lexer": "ipython3",
      "version": "3.8"
    },
    "kernelspec": {
      "name": "python",
      "display_name": "Python (Pyodide)",
      "language": "python"
    }
  },
  "nbformat_minor": 4,
  "nbformat": 4,
  "cells": [
    {
      "cell_type": "code",
      "source": "print(\"Hello Word\")\n\n#string type\n\nname = \"elcan\"\nprint(name)\n\n# Numeric int\nnumber = 10\nprint(number)\n\n#Numeric Float\nfloatNumber = 5.5\nprint(floatNumber)\n\n#Numeric Complex\nx = complex(5, 6)\nprint(x)\n\n#List\nlist1 = [\"a\",\"b\",\"c\"]\nlist2 = [1,2,3,4,5]\nprint(list1,list2)\n\n#tuple\ntuple = (\"abc\",1,True,10)\nprint(tuple)\n\n#range\n#range syntax range(start,stop,step)\n\nx=range(1,20,2)\nfor i in x:\n    print(i)\n\n#boolean\nprint(5>10) #False\nprint(5<10) #True\nprint(bool(0)) #False\n\n#3Arithmetic Operators\n\nprint(5+1)\nprint(10 - 5)\nprint(10 * 5)\nprint(10 / 5)\nprint(10 % 5)\nprint(10 ** 5)\nprint(10 // 5)\n\n#Assignment Operators\nx = 5\nx += 3  # ---> x = x + 3\nx -= 3\t# ---> x = x - 3\nx *= 3\t# --->x = x * 3\nx /= 3\t# --->x = x / 3\nx %= 3\t# --->x = x % 3\nx //= 3\t# --->x = x // 3\nx **= 3\t# --->x = x ** 3\tx &= 3\tx = x & 3\nx ^= 3\t# --->x = x ^ 3\nx >>= 3\t# --->x = x >> 3\nx <<= 3\t# --->x = x << 3\n\n#Comparison Operators\n\nprint(5>10)\nprint(5<10)\nprint(5 == 10)\nprint(5!=10)\nprint(5>=10)\nprint(5<=10)\n\n#Logical Operators\n\nprint(5>3 and 5<9)\nprint(5<3 or 6>1)\nprint(not(4>2 or 9<4))\n\n#Identity Operators\nx = [\"apple\", \"python\"]\ny = [\"apple\", \"python\"]\nz = x\n\n#Membership Operators\nx = [\"apple\", \"python\"]\n\nprint(\"apple\" in x)\nprint(\"app\" not in x)\n\nprint(x is z)\nprint(x is not y)\nprint(x == y)\n\n#4.If else operators\n\na = 5\nb= 10\n\nif  a > b:\n    print(\"a boyukdur\")\nelif a < b:\n    print(\"b boyukdur\")\nelse:\n    print(\"a ve b beraberdir\")",
      "metadata": {},
      "execution_count": null,
      "outputs": []
    }
  ]
}